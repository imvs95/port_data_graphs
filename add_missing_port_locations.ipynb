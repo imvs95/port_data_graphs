{
 "cells": [
  {
   "cell_type": "code",
   "execution_count": 17,
   "metadata": {},
   "outputs": [],
   "source": [
    "import json\n",
    "import copy"
   ]
  },
  {
   "cell_type": "code",
   "execution_count": 2,
   "metadata": {},
   "outputs": [],
   "source": [
    "f = open(\"data_av/msc_country_port_codes.json\")\n",
    "country_codes = json.load(f)\n",
    "dict_ports = {port[\"LocationCode\"]: port for port in country_codes[\"Ports\"]}"
   ]
  },
  {
   "cell_type": "code",
   "execution_count": 5,
   "metadata": {},
   "outputs": [],
   "source": [
    "# Add missing locations\n",
    "dict_ports[\"PYTVT\"][\"LocationLatitude\"] = -25.437514866687565\n",
    "dict_ports[\"PYTVT\"][\"LocationLongitude\"] = -57.54982369068272\n",
    "dict_ports[\"VNCMT\"] = {\"LocationLatitude\": 10.53728, \"LocationLongitude\": 107.024}\n",
    "dict_ports[\"THBKK\"] = {\"LocationLatitude\": 13.6185, \"LocationLongitude\": 100.5525}\n",
    "dict_ports[\"THSGK\"] = {\"LocationLatitude\": 7.23, \"LocationLongitude\": 100.57}\n",
    "dict_ports[\"BRVDC\"] = {\"LocationLatitude\": -1.534438, \"LocationLongitude\": -48.743}\n",
    "dict_ports[\"BRNAT\"] = {\"LocationLatitude\": -5.7833, \"LocationLongitude\": -35.2000}\n",
    "dict_ports[\"PEPIO\"] = {\"LocationLatitude\": -13.7959, \"LocationLongitude\": -76.26606}\n",
    "dict_ports[\"COSMR\"] = {\"LocationLatitude\": 11.24448, \"LocationLongitude\": -74.22005}\n",
    "dict_ports[\"PYASU\"] = {\"LocationLatitude\": -25.27408, \"LocationLongitude\": -57.60831}\n",
    "dict_ports[\"BRFOR\"] = {\"LocationLatitude\": -3.71448, \"LocationLongitude\": -38.49648}\n",
    "dict_ports[\"COBAQ\"] = {\"LocationLatitude\": 10.9666, \"LocationLongitude\": -74.7833}\n",
    "dict_ports[\"GFDDC\"] = {\"LocationLatitude\": 4.8500, \"LocationLongitude\": -52.2833}\n",
    "dict_ports[\"CLPMC\"] = {\"LocationLatitude\": -41.49836, \"LocationLongitude\": -72.97786}\n",
    "dict_ports[\"COEJA\"] = {\"LocationLatitude\": 7.062307, \"LocationLongitude\": -73.87903}\n",
    "dict_ports[\"CLANF\"] = {\"LocationLatitude\": -23.64713, \"LocationLongitude\": -70.40596}\n",
    "dict_ports[\"VEGUT\"] = {\"LocationLatitude\": 10.24756, \"LocationLongitude\": -64.59019}\n",
    "dict_ports[\"BRSPB\"] = {\"LocationLatitude\": -22.92535, \"LocationLongitude\": -43.85781}\n",
    "dict_ports[\"PEILQ\"] = {\"LocationLatitude\": -17.64677, \"LocationLongitude\": -71.35197}"
   ]
  },
  {
   "cell_type": "code",
   "execution_count": 6,
   "metadata": {},
   "outputs": [],
   "source": [
    "dict_ports[\"KRUSN\"] = {\"LocationLatitude\": 35.51106, \"LocationLongitude\": 129.3828}"
   ]
  },
  {
   "cell_type": "code",
   "execution_count": 7,
   "metadata": {},
   "outputs": [],
   "source": [
    "dict_ports[\"CNJGY\"] = {\"LocationLatitude\": 25.721292,\n",
    "                         \"LocationLongitude\": 119.384155}\n",
    "\n",
    "dict_ports[\"TWTPE\"] = {\"LocationLatitude\": 25.1590004,\n",
    "                          \"LocationLongitude\": 121.391006}"
   ]
  },
  {
   "cell_type": "code",
   "execution_count": 8,
   "metadata": {},
   "outputs": [],
   "source": [
    "with open('data_av/msc_route_country_port_codes.json', 'w') as outfile:\n",
    "    json.dump(dict_ports, outfile)"
   ]
  },
  {
   "cell_type": "markdown",
   "metadata": {},
   "source": [
    "-----\n"
   ]
  },
  {
   "cell_type": "code",
   "execution_count": 25,
   "metadata": {},
   "outputs": [],
   "source": [
    "f = open(\"./data_av/port_codes.json\")\n",
    "ports_av = json.load(f)"
   ]
  },
  {
   "cell_type": "code",
   "execution_count": 26,
   "metadata": {},
   "outputs": [],
   "source": [
    "#Add Missing Ports\n",
    "ports_av[\"Ports\"].append({\"LocationName\": \"JIANGYIN\",\n",
    "                         \"LocationCode\": \"CNJGY\",\n",
    "                          \"CountryIsoCode\": \"CN\",\n",
    "                         \"LocationLatitude\": 25.721292,\n",
    "                         \"LocationLongitude\": 119.384155})\n",
    "\n",
    "ports_av[\"Ports\"].append({\"LocationName\": \"TAIPEI\",\n",
    "                          \"LocationCode\": \"TWTPE\",\n",
    "                          \"CountryIsoCode\": \"TW\",\n",
    "                          \"LocationLatitude\": 25.1590004,\n",
    "                          \"LocationLongitude\": 121.391006})\n",
    "\n",
    "add_pusan = copy.deepcopy([i for i in ports_av[\"Ports\"] if i[\"LocationCode\"] == \"KRPUS\"][0])\n",
    "add_pusan[\"LocationName\"] = \"PUSAN\"\n",
    "ports_av[\"Ports\"].append(add_pusan)\n",
    "\n",
    "add_hk = copy.deepcopy([i for i in ports_av[\"Ports\"] if i[\"LocationCode\"] == \"HKHKG\"][0])\n",
    "add_hk[\"LocationName\"] = \"HONG KONG (ZHU JIANG)\"\n",
    "ports_av[\"Ports\"].append(add_hk)"
   ]
  },
  {
   "cell_type": "code",
   "execution_count": 28,
   "metadata": {},
   "outputs": [],
   "source": [
    "with open(\"./data_av/port_codes_new.json\", 'w') as outfile:\n",
    "    json.dump(ports_av, outfile)"
   ]
  },
  {
   "cell_type": "code",
   "execution_count": null,
   "metadata": {},
   "outputs": [],
   "source": []
  }
 ],
 "metadata": {
  "kernelspec": {
   "display_name": "Python 3",
   "language": "python",
   "name": "python3"
  },
  "language_info": {
   "codemirror_mode": {
    "name": "ipython",
    "version": 3
   },
   "file_extension": ".py",
   "mimetype": "text/x-python",
   "name": "python",
   "nbconvert_exporter": "python",
   "pygments_lexer": "ipython3",
   "version": "3.7.6"
  }
 },
 "nbformat": 4,
 "nbformat_minor": 5
}
